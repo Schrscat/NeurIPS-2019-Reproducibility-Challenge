{
 "nbformat": 4,
 "nbformat_minor": 0,
 "metadata": {
  "colab": {
   "name": "Preprocessing For 2nd and 3rd real dataset.ipynb",
   "provenance": [],
   "collapsed_sections": []
  },
  "kernelspec": {
   "name": "python3",
   "display_name": "Python 3"
  },
  "pycharm": {
   "stem_cell": {
    "cell_type": "raw",
    "source": [],
    "metadata": {
     "collapsed": false
    }
   }
  }
 },
 "cells": [
  {
   "cell_type": "code",
   "metadata": {
    "id": "cNIIA8Jqw_u4",
    "colab_type": "code",
    "colab": {
     "base_uri": "https://localhost:8080/",
     "height": 125
    },
    "outputId": "0c1b63ed-7003-4b94-ac07-9cb8b85af5d2",
    "executionInfo": {
     "status": "ok",
     "timestamp": 1575343604090,
     "user_tz": 300,
     "elapsed": 17986,
     "user": {
      "displayName": "Gary shao",
      "photoUrl": "https://lh3.googleusercontent.com/a-/AAuE7mCpLEz2YZnG0HvQcx8geNGAGZm_3W26nNxpHKY1=s64",
      "userId": "09576736238784693563"
     }
    }
   },
   "source": [
    "from google.colab import drive\n",
    "drive.mount('/content/drive')"
   ],
   "execution_count": 1,
   "outputs": [
    {
     "output_type": "stream",
     "text": [
      "Go to this URL in a browser: https://accounts.google.com/o/oauth2/auth?client_id=947318989803-6bn6qk8qdgf4n4g3pfee6491hc0brc4i.apps.googleusercontent.com&redirect_uri=urn%3aietf%3awg%3aoauth%3a2.0%3aoob&response_type=code&scope=email%20https%3a%2f%2fwww.googleapis.com%2fauth%2fdocs.test%20https%3a%2f%2fwww.googleapis.com%2fauth%2fdrive%20https%3a%2f%2fwww.googleapis.com%2fauth%2fdrive.photos.readonly%20https%3a%2f%2fwww.googleapis.com%2fauth%2fpeopleapi.readonly\n",
      "\n",
      "Enter your authorization code:\n",
      "··········\n",
      "Mounted at /content/drive\n"
     ],
     "name": "stdout"
    }
   ]
  },
  {
   "cell_type": "code",
   "metadata": {
    "id": "m7IIgbiYzL-x",
    "colab_type": "code",
    "colab": {}
   },
   "source": [
    "import pandas as pd\n",
    "Emergency_Call = pd.read_csv(\"/content/drive/My Drive/COMP551 MINI4/NeuralNetworkPointProcess-master/Police_Department_Calls_for_Service.csv\")"
   ],
   "execution_count": 0,
   "outputs": []
  },
  {
   "cell_type": "code",
   "metadata": {
    "id": "87Zzan251nP4",
    "colab_type": "code",
    "colab": {
     "base_uri": "https://localhost:8080/",
     "height": 228
    },
    "outputId": "cfe29ca2-5e7b-414c-fa13-16ca0136f40d",
    "executionInfo": {
     "status": "ok",
     "timestamp": 1575346866152,
     "user_tz": 300,
     "elapsed": 297,
     "user": {
      "displayName": "Gary shao",
      "photoUrl": "https://lh3.googleusercontent.com/a-/AAuE7mCpLEz2YZnG0HvQcx8geNGAGZm_3W26nNxpHKY1=s64",
      "userId": "09576736238784693563"
     }
    }
   },
   "source": [
    "print(Emergency_Call.Address)"
   ],
   "execution_count": 4,
   "outputs": [
    {
     "output_type": "stream",
     "text": [
      "0          300 Block Of Industrial St\n",
      "1                  16th St/mission St\n",
      "2                 Guerrero St/24th St\n",
      "3              1300 Block Of Treat Av\n",
      "4                   Laguna St/turk St\n",
      "                      ...            \n",
      "3021416        Sansome St/chestnut St\n",
      "3021417         1900 Block Of 18th Av\n",
      "3021418         3300 Block Of 20th Av\n",
      "3021419             100 Blk Howard St\n",
      "3021420        Geary Bl/divisadero St\n",
      "Name: Address, Length: 3021421, dtype: object\n"
     ],
     "name": "stdout"
    }
   ]
  },
  {
   "cell_type": "code",
   "metadata": {
    "id": "axIGonxB_By_",
    "colab_type": "code",
    "colab": {
     "base_uri": "https://localhost:8080/",
     "height": 34
    },
    "outputId": "865b732c-b797-44b0-e5f3-0b5b9c2f02ae",
    "executionInfo": {
     "status": "ok",
     "timestamp": 1575347052399,
     "user_tz": 300,
     "elapsed": 741,
     "user": {
      "displayName": "Gary shao",
      "photoUrl": "https://lh3.googleusercontent.com/a-/AAuE7mCpLEz2YZnG0HvQcx8geNGAGZm_3W26nNxpHKY1=s64",
      "userId": "09576736238784693563"
     }
    }
   },
   "source": [
    "Emergency_Call.Address.nunique()\n",
    "# Emergency_Call.groupby(by='Address').count()"
   ],
   "execution_count": 8,
   "outputs": [
    {
     "output_type": "execute_result",
     "data": {
      "text/plain": [
       "73318"
      ]
     },
     "metadata": {
      "tags": []
     },
     "execution_count": 8
    }
   ]
  },
  {
   "cell_type": "code",
   "metadata": {
    "id": "36CskMucAwnU",
    "colab_type": "code",
    "colab": {
     "base_uri": "https://localhost:8080/",
     "height": 228
    },
    "outputId": "9d954b93-e921-4edb-f5e7-945bbc127dca",
    "executionInfo": {
     "status": "ok",
     "timestamp": 1575347261848,
     "user_tz": 300,
     "elapsed": 895,
     "user": {
      "displayName": "Gary shao",
      "photoUrl": "https://lh3.googleusercontent.com/a-/AAuE7mCpLEz2YZnG0HvQcx8geNGAGZm_3W26nNxpHKY1=s64",
      "userId": "09576736238784693563"
     }
    }
   },
   "source": [
    "Emergency_Call['Address'].value_counts()"
   ],
   "execution_count": 9,
   "outputs": [
    {
     "output_type": "execute_result",
     "data": {
      "text/plain": [
       "900 Block Of Market St                  21620\n",
       "0 Block Of United Nations Pz            18419\n",
       "1100 Block Of Market St                 12430\n",
       "1500 Block Of Haight St                 11121\n",
       "100 Block Of Christmas Tree Point Rd    10927\n",
       "                                        ...  \n",
       "1563 Page St - Urban Hs                     1\n",
       "106 Fern                                    1\n",
       "600 Larch Way                               1\n",
       "800 Block Of Mission St #Flr5-Sec U         1\n",
       "350 Laguna                                  1\n",
       "Name: Address, Length: 73318, dtype: int64"
      ]
     },
     "metadata": {
      "tags": []
     },
     "execution_count": 9
    }
   ]
  },
  {
   "cell_type": "code",
   "metadata": {
    "id": "O5FD5G2oBA5W",
    "colab_type": "code",
    "colab": {
     "base_uri": "https://localhost:8080/",
     "height": 826
    },
    "outputId": "36a7d845-a2fd-432c-c845-369849fb3f63",
    "executionInfo": {
     "status": "ok",
     "timestamp": 1575350117814,
     "user_tz": 300,
     "elapsed": 931,
     "user": {
      "displayName": "Gary shao",
      "photoUrl": "https://lh3.googleusercontent.com/a-/AAuE7mCpLEz2YZnG0HvQcx8geNGAGZm_3W26nNxpHKY1=s64",
      "userId": "09576736238784693563"
     }
    }
   },
   "source": [
    "\n",
    "B = Emergency_Call['Address'].value_counts().index[0:100]\n",
    "print(B)"
   ],
   "execution_count": 65,
   "outputs": [
    {
     "output_type": "stream",
     "text": [
      "Index(['900 Block Of Market St', '0 Block Of United Nations Pz',\n",
      "       '1100 Block Of Market St', '1500 Block Of Haight St',\n",
      "       '100 Block Of Christmas Tree Point Rd', '600 Block Of Market St',\n",
      "       '800 Block Of Market St', '100 Block Of 6th St', '16th St/mission St',\n",
      "       '600 Block Of Valencia St', '1000 Block Of Potrero Av',\n",
      "       '1200 Block Of Market St', '300 Block Of Market St',\n",
      "       '1500 Block Of Market St', '100 Block Of Mcallister St',\n",
      "       '300 Block Of Eddy St', '300 Block Of Geary St',\n",
      "       '600 Block Of Dolores St', '1000 Block Of Market St',\n",
      "       '7th St/market St', '3300 Block Of 20th Av', '400 Block Of Eddy St',\n",
      "       '700 Block Of Market St', '400 Block Of Turk St',\n",
      "       '1800 Block Of Oak St', '2000 Block Of Market St',\n",
      "       '400 Block Of Ellis St', '100 Block Of Mason St',\n",
      "       '700 Block Of Stanyan St', '24th St/mission St', '400 Block Of 7th St',\n",
      "       '100 Block Of 34th Av', '500 Block Of Castro St',\n",
      "       '800 Block Of Mission St', '0 Block Of The Embarcadero Sou',\n",
      "       '200 Block Of Eddy St', '500 Block Of Ellis St',\n",
      "       '900 Block Of La Playa', '100 Block Of Scott St',\n",
      "       '200 Block Of Golden Gate Av', '100 Block Of Eddy St',\n",
      "       '500 Block Of Ofarrell St', '0 Block Of Powell St',\n",
      "       '200 Block Of Ofarrell St', '200 Block Of Turk St',\n",
      "       '1100 Block Of Point Lobos Av', '8th St/market St',\n",
      "       '2400 Block Of Market St', '600 Block Of Buena Vista Av W',\n",
      "       '200 Block Of Williams Av', 'Plymouth Av/broad St', '6th St/market St',\n",
      "       '2000 Block Of Mission St', '1000 Block Of Mission St',\n",
      "       '5th St/market St', '1100 Block Of Fillmore St', '18th St/castro St',\n",
      "       '900 Block Of Bryant St', '19th Av/winston Dr', 'Haight St/ashbury St',\n",
      "       '800 Block Of Vallejo St', 'Market St/jones St',\n",
      "       '100 Block Of Grove St', '200 Block Of Hyde St',\n",
      "       '1000 Block Of Howard St', '1200 Block Of Mission St',\n",
      "       '3100 Block Of Kamille Ct', '400 Block Of Golden Gate Av',\n",
      "       '3600 Block Of Lyon St', '3rd St/quesada Av', '1000 Block Of Polk St',\n",
      "       '2300 Block Of 16th St', '200 Block Of Powell St',\n",
      "       '100 Block Of Dore St', '2nd St/bryant St', '300 Block Of Turk St',\n",
      "       '300 Block Of Ellis St', '700 Block Of Ellis St',\n",
      "       '1900 Block Of Mission St', '11th St/mission St',\n",
      "       'Haight St/masonic Av', '0 Block Of 6th St', 'Judah St/la Playa',\n",
      "       '400 Block Of Jones St', '400 Block Of Geary St',\n",
      "       'Haight St/clayton St', 'Geary Bl/fillmore St', '8th St/mission St',\n",
      "       '5th St/mission St', '900 Block Of Geary St',\n",
      "       '200 Block Of Jefferson St', 'Turk St/hyde St',\n",
      "       '2200 Block Of The Embarcadero Nor', '600 Block Of Broadway',\n",
      "       '0 Block Of Jose Sarria Ct', '2300 Block Of Market St',\n",
      "       '2100 Block Of Mission St', '0 Block Of Mcallister St',\n",
      "       '700 Block Of Eddy St', '4th St/king St'],\n",
      "      dtype='object')\n"
     ],
     "name": "stdout"
    }
   ]
  },
  {
   "cell_type": "code",
   "metadata": {
    "id": "VPeomU8ZBkoh",
    "colab_type": "code",
    "colab": {
     "base_uri": "https://localhost:8080/",
     "height": 34
    },
    "outputId": "d6fb1e99-03ca-41e5-98d8-dc51c7f91025",
    "executionInfo": {
     "status": "ok",
     "timestamp": 1575348343122,
     "user_tz": 300,
     "elapsed": 498,
     "user": {
      "displayName": "Gary shao",
      "photoUrl": "https://lh3.googleusercontent.com/a-/AAuE7mCpLEz2YZnG0HvQcx8geNGAGZm_3W26nNxpHKY1=s64",
      "userId": "09576736238784693563"
     }
    }
   },
   "source": [
    "print(B[1])"
   ],
   "execution_count": 36,
   "outputs": [
    {
     "output_type": "stream",
     "text": [
      "0 Block Of United Nations Pz\n"
     ],
     "name": "stdout"
    }
   ]
  },
  {
   "cell_type": "code",
   "metadata": {
    "id": "KRIxUCPKF2cp",
    "colab_type": "code",
    "colab": {
     "base_uri": "https://localhost:8080/",
     "height": 474
    },
    "outputId": "a8377f0a-749f-4c44-f11e-4d1b0fbbbf2b",
    "executionInfo": {
     "status": "ok",
     "timestamp": 1575348991460,
     "user_tz": 300,
     "elapsed": 665,
     "user": {
      "displayName": "Gary shao",
      "photoUrl": "https://lh3.googleusercontent.com/a-/AAuE7mCpLEz2YZnG0HvQcx8geNGAGZm_3W26nNxpHKY1=s64",
      "userId": "09576736238784693563"
     }
    }
   },
   "source": [
    "C = Emergency_Call[Emergency_Call.Address.isin(B)]\n",
    "print(Emergency_Call)\n",
    "\n",
    "print(C.Address)"
   ],
   "execution_count": 52,
   "outputs": [
    {
     "output_type": "stream",
     "text": [
      "          Crime Id  ...          Common Location\n",
      "0        190020633  ...                      NaN\n",
      "1        190030570  ...                      NaN\n",
      "2        190030763  ...                      NaN\n",
      "3        190031537  ...      Garfield Square, Sf\n",
      "4        190033158  ...                      NaN\n",
      "...            ...  ...                      ...\n",
      "3021416  183653737  ...                      NaN\n",
      "3021417  183653745  ...                      NaN\n",
      "3021418  183653746  ...  Stonestown Galleria, Sf\n",
      "3021419  183653756  ...                      NaN\n",
      "3021420  183653763  ...                      NaN\n",
      "\n",
      "[3021421 rows x 14 columns]\n",
      "1                     16th St/mission St\n",
      "7                  400 Block Of Jones St\n",
      "18                800 Block Of Market St\n",
      "23                200 Block Of Powell St\n",
      "25                  400 Block Of Turk St\n",
      "                       ...              \n",
      "3021381    600 Block Of Buena Vista Av W\n",
      "3021392          1000 Block Of Howard St\n",
      "3021402          600 Block Of Dolores St\n",
      "3021411          1500 Block Of Haight St\n",
      "3021418            3300 Block Of 20th Av\n",
      "Name: Address, Length: 391594, dtype: object\n"
     ],
     "name": "stdout"
    }
   ]
  },
  {
   "cell_type": "code",
   "metadata": {
    "id": "Q9CF6ba7I82s",
    "colab_type": "code",
    "colab": {
     "base_uri": "https://localhost:8080/",
     "height": 263
    },
    "outputId": "9dd4612e-4f14-4954-bd73-edf4e53f04b0",
    "executionInfo": {
     "status": "ok",
     "timestamp": 1575350204988,
     "user_tz": 300,
     "elapsed": 2567,
     "user": {
      "displayName": "Gary shao",
      "photoUrl": "https://lh3.googleusercontent.com/a-/AAuE7mCpLEz2YZnG0HvQcx8geNGAGZm_3W26nNxpHKY1=s64",
      "userId": "09576736238784693563"
     }
    }
   },
   "source": [
    "frame=[]\n",
    "for i in range(80):\n",
    "  frame.append(C.loc[C['Address'] == B[i]])\n",
    "D = pd.concat(frame)\n",
    "print(D)"
   ],
   "execution_count": 69,
   "outputs": [
    {
     "output_type": "stream",
     "text": [
      "          Crime Id  ...      Common Location\n",
      "43       190102792  ...  One Hallidie Pz, Sf\n",
      "269      190113121  ...  One Hallidie Pz, Sf\n",
      "290      190041024  ...  One Hallidie Pz, Sf\n",
      "315      190062236  ...   Powell St Muni, Sf\n",
      "443      190042605  ...   Powell St Muni, Sf\n",
      "...            ...  ...                  ...\n",
      "3015128  183622745  ...                  NaN\n",
      "3015129  183622747  ...                  NaN\n",
      "3015208  183622884  ...                  NaN\n",
      "3015260  183622969  ...                  NaN\n",
      "3017229  183632789  ...                  NaN\n",
      "\n",
      "[347188 rows x 14 columns]\n"
     ],
     "name": "stdout"
    }
   ]
  },
  {
   "cell_type": "code",
   "metadata": {
    "id": "J1BrpfOoLX09",
    "colab_type": "code",
    "colab": {
     "base_uri": "https://localhost:8080/",
     "height": 263
    },
    "outputId": "60d32ee3-50ba-46ea-b961-2d8aa74a1e27",
    "executionInfo": {
     "status": "ok",
     "timestamp": 1575350162859,
     "user_tz": 300,
     "elapsed": 929,
     "user": {
      "displayName": "Gary shao",
      "photoUrl": "https://lh3.googleusercontent.com/a-/AAuE7mCpLEz2YZnG0HvQcx8geNGAGZm_3W26nNxpHKY1=s64",
      "userId": "09576736238784693563"
     }
    }
   },
   "source": [
    "D = pd.concat(frame)\n",
    "print(D)"
   ],
   "execution_count": 68,
   "outputs": [
    {
     "output_type": "stream",
     "text": [
      "          Crime Id  ...      Common Location\n",
      "43       190102792  ...  One Hallidie Pz, Sf\n",
      "269      190113121  ...  One Hallidie Pz, Sf\n",
      "290      190041024  ...  One Hallidie Pz, Sf\n",
      "315      190062236  ...   Powell St Muni, Sf\n",
      "443      190042605  ...   Powell St Muni, Sf\n",
      "...            ...  ...                  ...\n",
      "3007818  183582337  ...                  NaN\n",
      "3018133  183640887  ...                  NaN\n",
      "3019031  183642504  ...                  NaN\n",
      "3019155  183642737  ...                  NaN\n",
      "3019438  183643331  ...                  NaN\n",
      "\n",
      "[391594 rows x 14 columns]\n"
     ],
     "name": "stdout"
    }
   ]
  }
 ]
}